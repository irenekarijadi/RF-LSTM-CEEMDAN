{
 "cells": [
  {
   "cell_type": "markdown",
   "metadata": {},
   "source": [
    "## Load data"
   ]
  },
  {
   "cell_type": "code",
   "execution_count": 6,
   "metadata": {},
   "outputs": [],
   "source": [
    "import pandas as pd\n",
    "\n",
    "url_univdorm= 'https://raw.githubusercontent.com/irenekarijadi/RF-LSTM-CEEMDAN/main/Dataset/data%20of%20UnivDorm_Prince.csv'\n",
    "univdorm= pd.read_csv(url_univdorm)\n",
    "data_univdorm= univdorm[(univdorm['timestamp'] > '2015-03-01') & (univdorm['timestamp'] < '2015-06-01')]\n",
    "dfs_univdorm=data_univdorm['energy']\n",
    "datas_univdorm=pd.DataFrame(dfs_univdorm)\n"
   ]
  },
  {
   "cell_type": "markdown",
   "metadata": {},
   "source": [
    "## import libraries"
   ]
  },
  {
   "cell_type": "code",
   "execution_count": 3,
   "metadata": {},
   "outputs": [
    {
     "name": "stdout",
     "output_type": "stream",
     "text": [
      "importing Jupyter notebook from Setting.ipynb\n",
      "importing Jupyter notebook from Linear_Regression.ipynb\n",
      "importing Jupyter notebook from support_vector_regression.ipynb\n",
      "importing Jupyter notebook from artificial_neural_network.ipynb\n",
      "importing Jupyter notebook from random_forest.ipynb\n",
      "importing Jupyter notebook from lstm.ipynb\n",
      "importing Jupyter notebook from hybrid_ceemdan_rf.ipynb\n",
      "importing Jupyter notebook from hybrid_ceemdan_lstm.ipynb\n",
      "importing Jupyter notebook from proposed_method.ipynb\n"
     ]
    }
   ],
   "source": [
    "import import_ipynb\n",
    "import Setting\n",
    "\n",
    "from PyEMD import CEEMDAN\n",
    "import math\n",
    "import tensorflow as tf\n",
    "import numpy\n",
    "from tensorflow import keras\n",
    "from keras.models import Sequential\n",
    "from keras.layers import Dense\n",
    "from keras.layers import LSTM\n",
    "from sklearn import metrics\n",
    "\n",
    "import Linear_Regression\n",
    "from Linear_Regression import lr_model\n",
    "\n",
    "import support_vector_regression\n",
    "from support_vector_regression import svr_model\n",
    "\n",
    "import artificial_neural_network\n",
    "from artificial_neural_network import ann_model\n",
    "\n",
    "import random_forest\n",
    "from random_forest import rf_model\n",
    "\n",
    "import lstm\n",
    "from lstm import lstm_model\n",
    "\n",
    "import hybrid_ceemdan_rf\n",
    "from hybrid_ceemdan_rf import hybrid_ceemdan_rf\n",
    "\n",
    "import hybrid_ceemdan_lstm\n",
    "from hybrid_ceemdan_lstm import hybrid_ceemdan_lstm\n",
    "\n",
    "import proposed_method\n",
    "from proposed_method import proposed_method\n",
    "\n",
    "import time"
   ]
  },
  {
   "cell_type": "markdown",
   "metadata": {},
   "source": [
    "## Import parameter settings"
   ]
  },
  {
   "cell_type": "code",
   "execution_count": 4,
   "metadata": {},
   "outputs": [],
   "source": [
    "hours=Setting.n_hours\n",
    "data_partition=Setting.data_partition\n",
    "max_features=Setting.max_features\n",
    "epoch=Setting.epoch\n",
    "batch_size=Setting.batch_size\n",
    "neuron=Setting.neuron\n",
    "lr=Setting.lr\n",
    "optimizer=Setting.optimizer"
   ]
  },
  {
   "cell_type": "markdown",
   "metadata": {},
   "source": [
    "## Run the experiments"
   ]
  },
  {
   "cell_type": "code",
   "execution_count": 7,
   "metadata": {},
   "outputs": [
    {
     "name": "stdout",
     "output_type": "stream",
     "text": [
      "--- 0.2084639072418213 seconds - Linear Regression- univdorm ---\n",
      "--- 0.3899569511413574 seconds - Support Vector Regression- univdorm ---\n",
      "--- 2.3781235218048096 seconds - ANN- univdorm ---\n",
      "--- 1.3798577785491943 seconds - Random Forest- univdorm ---\n",
      "--- 10.068361520767212 seconds - lstm- univdorm ---\n",
      "--- 40.99048709869385 seconds - ceemdan_rf- univdorm ---\n",
      "--- 114.78032112121582 seconds - ceemdan_lstm- univdorm ---\n",
      "--- 102.68029046058655 seconds - proposed_method- univdorm ---\n"
     ]
    }
   ],
   "source": [
    "#Linear Regression\n",
    "\n",
    "start_time = time.time()\n",
    "lr_univdorm=lr_model(datas_univdorm,hours,data_partition)\n",
    "lr_time_univdorm=time.time() - start_time\n",
    "print(\"--- %s seconds - Linear Regression- univdorm ---\" % (lr_time_univdorm))\n",
    "\n",
    "#Support Vector Regression\n",
    "start_time = time.time()\n",
    "svr_univdorm=svr_model(datas_univdorm,hours,data_partition)\n",
    "svr_time_univdorm=time.time() - start_time\n",
    "print(\"--- %s seconds - Support Vector Regression- univdorm ---\" % (svr_time_univdorm))\n",
    "\n",
    "\n",
    "#ANN\n",
    "start_time = time.time()\n",
    "ann_univdorm=ann_model(datas_univdorm,hours,data_partition)\n",
    "ann_time_univdorm=time.time() - start_time\n",
    "print(\"--- %s seconds - ANN- univdorm ---\" % (ann_time_univdorm))\n",
    "\n",
    "#random forest\n",
    "start_time = time.time()\n",
    "rf_univdorm=rf_model(datas_univdorm,hours,data_partition,max_features)\n",
    "rf_time_univdorm=time.time() - start_time\n",
    "print(\"--- %s seconds - Random Forest- univdorm ---\" % (rf_time_univdorm))\n",
    "\n",
    "#LSTM\n",
    "start_time = time.time()\n",
    "lstm_univdorm=lstm_model(datas_univdorm,hours,data_partition,max_features,epoch,batch_size,neuron,lr,optimizer)\n",
    "lstm_time_univdorm=time.time() - start_time\n",
    "print(\"--- %s seconds - lstm- univdorm ---\" % (lstm_time_univdorm))\n",
    "\n",
    "\n",
    "#CEEMDAN RF\n",
    "start_time = time.time()\n",
    "ceemdan_rf_univdorm=hybrid_ceemdan_rf(dfs_univdorm,hours,data_partition,max_features)\n",
    "ceemdan_rf_time_univdorm=time.time() - start_time\n",
    "print(\"--- %s seconds - ceemdan_rf- univdorm ---\" % (ceemdan_rf_time_univdorm))\n",
    "\n",
    "#CEEMDAN LSTM\n",
    "start_time = time.time()\n",
    "ceemdan_lstm_univdorm=hybrid_ceemdan_lstm(dfs_univdorm,hours,data_partition,max_features,epoch,batch_size,neuron,lr,optimizer)\n",
    "ceemdan_lstm_time_univdorm=time.time() - start_time\n",
    "print(\"--- %s seconds - ceemdan_lstm- univdorm ---\" % (ceemdan_lstm_time_univdorm))\n",
    "\n",
    "\n",
    "#proposed method\n",
    "start_time = time.time()\n",
    "proposed_method_univdorm=proposed_method(dfs_univdorm,hours,data_partition,max_features,epoch,batch_size,neuron,lr,optimizer)\n",
    "proposed_method_time_univdorm=time.time() - start_time\n",
    "print(\"--- %s seconds - proposed_method- univdorm ---\" % (proposed_method_time_univdorm))\n",
    "\n"
   ]
  },
  {
   "cell_type": "markdown",
   "metadata": {},
   "source": [
    "## Summarize of experimental results with running time"
   ]
  },
  {
   "cell_type": "code",
   "execution_count": null,
   "metadata": {},
   "outputs": [],
   "source": [
    "running_time_univdorm=pd.DataFrame([lr_time_univdorm,svr_time_univdorm,ann_time_univdorm,\n",
    "                                   rf_time_univdorm,lstm_time_univdorm,ceemdan_rf_time_univdorm,\n",
    "                                   ceemdan_lstm_time_univdorm,proposed_method_time_univdorm])\n",
    "running_time_univdorm=running_time_univdorm.T\n",
    "running_time_univdorm.columns=['LR','SVR','ANN','RF','LSTM','CEEMDAN RF','CEEMDAN LSTM','Proposed Method']\n",
    "result_univdorm=pd.DataFrame([lr_univdorm,svr_univdorm,ann_univdorm,rf_univdorm,lstm_univdorm,ceemdan_rf_univdorm,\n",
    "                    ceemdan_lstm_univdorm,proposed_method_univdorm])\n",
    "result_univdorm=result_univdorm.T\n",
    "result_univdorm.columns=['LR','SVR','ANN','RF','LSTM','CEEMDAN RF','CEEMDAN LSTM','Proposed Method']\n",
    "univdorm_summary=pd.concat([result_univdorm,running_time_univdorm],axis=0)\n",
    "\n",
    "univdorm_summary.set_axis(['MAPE(%)', 'RMSE','MAE','running time (s)'], axis='index')\n",
    "\n",
    "univdorm_summary.style.set_caption(\"University Dormitory Results\")"
   ]
  },
  {
   "cell_type": "markdown",
   "metadata": {},
   "source": [
    "## Calculate percentage improvement"
   ]
  },
  {
   "cell_type": "code",
   "execution_count": null,
   "metadata": {},
   "outputs": [],
   "source": [
    "pMAPE_LR_vs_Proposed_univdorm=((lr_univdorm[0]-proposed_method_univdorm[0])/lr_univdorm[0])*100\n",
    "pRMSE_LR_vs_Proposed_univdorm=((lr_univdorm[1]-proposed_method_univdorm[1])/lr_univdorm[1])*100\n",
    "pMAE_LR_vs_Proposed_univdorm=((lr_univdorm[2]-proposed_method_univdorm[2])/lr_univdorm[2])*100\n",
    "\n",
    "pMAPE_SVR_vs_Proposed_univdorm=((svr_univdorm[0]-proposed_method_univdorm[0])/svr_univdorm[0])*100\n",
    "pRMSE_SVR_vs_Proposed_univdorm=((svr_univdorm[1]-proposed_method_univdorm[1])/svr_univdorm[1])*100\n",
    "pMAE_SVR_vs_Proposed_univdorm=((svr_univdorm[2]-proposed_method_univdorm[2])/svr_univdorm[2])*100\n",
    "\n",
    "pMAPE_ANN_vs_Proposed_univdorm=((ann_univdorm[0]-proposed_method_univdorm[0])/ann_univdorm[0])*100\n",
    "pRMSE_ANN_vs_Proposed_univdorm=((ann_univdorm[1]-proposed_method_univdorm[1])/ann_univdorm[1])*100\n",
    "pMAE_ANN_vs_Proposed_univdorm=((ann_univdorm[2]-proposed_method_univdorm[2])/ann_univdorm[2])*100\n",
    "\n",
    "pMAPE_RF_vs_Proposed_univdorm=((rf_univdorm[0]-proposed_method_univdorm[0])/rf_univdorm[0])*100\n",
    "pRMSE_RF_vs_Proposed_univdorm=((rf_univdorm[1]-proposed_method_univdorm[1])/rf_univdorm[1])*100\n",
    "pMAE_RF_vs_Proposed_univdorm=((rf_univdorm[2]-proposed_method_univdorm[2])/rf_univdorm[2])*100\n",
    "\n",
    "pMAPE_LSTM_vs_Proposed_univdorm=((lstm_univdorm[0]-proposed_method_univdorm[0])/lstm_univdorm[0])*100\n",
    "pRMSE_LSTM_vs_Proposed_univdorm=((lstm_univdorm[1]-proposed_method_univdorm[1])/lstm_univdorm[1])*100\n",
    "pMAE_LSTM_vs_Proposed_univdorm=((lstm_univdorm[2]-proposed_method_univdorm[2])/lstm_univdorm[2])*100\n",
    "\n",
    "pMAPE_ceemdan_rf_vs_Proposed_univdorm=((ceemdan_rf_univdorm[0]-proposed_method_univdorm[0])/ceemdan_rf_univdorm[0])*100\n",
    "pRMSE_ceemdan_rf_vs_Proposed_univdorm=((ceemdan_rf_univdorm[1]-proposed_method_univdorm[1])/ceemdan_rf_univdorm[1])*100\n",
    "pMAE_ceemdan_rf_vs_Proposed_univdorm=((ceemdan_rf_univdorm[2]-proposed_method_univdorm[2])/ceemdan_rf_univdorm[2])*100\n",
    "\n",
    "\n",
    "pMAPE_ceemdan_lstm_vs_Proposed_univdorm=((ceemdan_lstm_univdorm[0]-proposed_method_univdorm[0])/ceemdan_lstm_univdorm[0])*100\n",
    "pRMSE_ceemdan_lstm_vs_Proposed_univdorm=((ceemdan_lstm_univdorm[1]-proposed_method_univdorm[1])/ceemdan_lstm_univdorm[1])*100\n",
    "pMAE_ceemdan_lstm_vs_Proposed_univdorm=((ceemdan_lstm_univdorm[2]-proposed_method_univdorm[2])/ceemdan_lstm_univdorm[2])*100\n",
    "\n",
    "\n",
    "df_PI_univdorm=[[pMAPE_LR_vs_Proposed_univdorm,pMAPE_SVR_vs_Proposed_univdorm,pMAPE_ANN_vs_Proposed_univdorm,\n",
    "                pMAPE_RF_vs_Proposed_univdorm,pMAPE_LSTM_vs_Proposed_univdorm,pMAPE_ceemdan_rf_vs_Proposed_univdorm,\n",
    "                pMAPE_ceemdan_lstm_vs_Proposed_univdorm],\n",
    "                [pRMSE_LR_vs_Proposed_univdorm,pRMSE_SVR_vs_Proposed_univdorm,pRMSE_ANN_vs_Proposed_univdorm,\n",
    "                pRMSE_RF_vs_Proposed_univdorm,pRMSE_LSTM_vs_Proposed_univdorm,pRMSE_ceemdan_rf_vs_Proposed_univdorm,\n",
    "                pRMSE_ceemdan_lstm_vs_Proposed_univdorm],\n",
    "                [pMAE_LR_vs_Proposed_univdorm,pMAE_SVR_vs_Proposed_univdorm,pMAE_ANN_vs_Proposed_univdorm,\n",
    "                pMAE_RF_vs_Proposed_univdorm,pMAE_LSTM_vs_Proposed_univdorm,pMAE_ceemdan_rf_vs_Proposed_univdorm,\n",
    "                pMAE_ceemdan_lstm_vs_Proposed_univdorm]]\n",
    "\n",
    "PI_univdorm=pd.DataFrame(df_PI_univdorm, columns=[\"LR vs. Proposed Method\", \"SVR vs. Proposed Method\",\"ANN vs. Proposed Method\",\n",
    "                                      \"RF vs. Proposed Method\",\"LSTM vs. Proposed Method\",\"CEEMDAN RF vs. Proposed Method\",\n",
    "                                      \"CEEMDAN RF LSTM vs. Proposed Method\"])\n",
    "PI_univdorm= PI_univdorm.round(decimals = 2)\n",
    "PI_univdorm.set_axis(['MAPE(%)', 'RMSE','MAE'], axis='index')\n",
    "PI_univdorm.style.set_caption(\"Percentage Improvement-University Dormitory Building\")\n"
   ]
  }
 ],
 "metadata": {
  "kernelspec": {
   "display_name": "Python 3",
   "language": "python",
   "name": "python3"
  },
  "language_info": {
   "codemirror_mode": {
    "name": "ipython",
    "version": 3
   },
   "file_extension": ".py",
   "mimetype": "text/x-python",
   "name": "python",
   "nbconvert_exporter": "python",
   "pygments_lexer": "ipython3",
   "version": "3.7.6"
  }
 },
 "nbformat": 4,
 "nbformat_minor": 4
}
