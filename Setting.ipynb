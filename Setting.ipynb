{
 "cells": [
  {
   "cell_type": "code",
   "execution_count": 2,
   "metadata": {},
   "outputs": [],
   "source": [
    "# Proposed Method Parameters\n",
    "\n",
    "#the number of trees in RF to 100, which is the default value in the scikit-learn package ()\n",
    "max_features=8 # the feature number of each node is set to 8, as it is suggested to be one-third of the feature's number ( et al,)\n",
    "\n",
    "lr=0.001 #learning rate LSTM as recommended in (Kingma and Ba, 2014) \n",
    "optimizer='Adam' #as it is computationally efficient\n",
    "epoch=100 #\n",
    "batch_size=64 #\n",
    "n_hours=24 #\n",
    "data_partition=0.8 \n"
   ]
  },
  {
   "cell_type": "code",
   "execution_count": null,
   "metadata": {},
   "outputs": [],
   "source": []
  }
 ],
 "metadata": {
  "kernelspec": {
   "display_name": "Python 3",
   "language": "python",
   "name": "python3"
  },
  "language_info": {
   "codemirror_mode": {
    "name": "ipython",
    "version": 3
   },
   "file_extension": ".py",
   "mimetype": "text/x-python",
   "name": "python",
   "nbconvert_exporter": "python",
   "pygments_lexer": "ipython3",
   "version": "3.7.6"
  }
 },
 "nbformat": 4,
 "nbformat_minor": 4
}
